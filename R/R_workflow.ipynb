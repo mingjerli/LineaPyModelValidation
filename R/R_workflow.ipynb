{
 "cells": [
  {
   "cell_type": "code",
   "execution_count": 1,
   "id": "09fc060b-bae8-4fec-921b-bbfac7e8ea4a",
   "metadata": {},
   "outputs": [],
   "source": [
    "%load_ext lineapy"
   ]
  },
  {
   "cell_type": "code",
   "execution_count": 2,
   "id": "6755e755-ac95-497a-9e14-a316b00ad345",
   "metadata": {},
   "outputs": [],
   "source": [
    "import subprocess\n",
    "import pathlib\n",
    "import pandas as pd"
   ]
  },
  {
   "cell_type": "code",
   "execution_count": 3,
   "id": "c383c8f1-4e7f-4845-ad6f-4ad05f000013",
   "metadata": {},
   "outputs": [],
   "source": [
    "Rbinary = '/home/mingjerli/miniconda3/envs/r_env/bin/Rscript'\n",
    "R_script = 'optionpricing_call.r'\n",
    "R_price_path = 'R_call_price.csv'"
   ]
  },
  {
   "cell_type": "code",
   "execution_count": 4,
   "id": "c06909aa-f5ee-4081-b8e0-1b97686b8c0a",
   "metadata": {},
   "outputs": [
    {
     "name": "stdout",
     "output_type": "stream",
     "text": [
      "library(OptionPricing)\n",
      "library(jsonlite)\n",
      "\n",
      "config = fromJSON(\"../config/option_config.json\")\n",
      "european_call = BS_EC(K=config$K, r=config$r, sigma=config$v, T=config$T, S0=config$S)\n",
      "print(european_call)\n",
      "write.csv(european_call, file='R_call_price.csv')\n"
     ]
    },
    {
     "data": {
      "text/plain": [
       "LineaArtifact(name='R_source_code', _version=3)"
      ]
     },
     "execution_count": 4,
     "metadata": {},
     "output_type": "execute_result"
    }
   ],
   "source": [
    "source_code = pathlib.Path(R_script).read_text()\n",
    "print(source_code)\n",
    "lineapy.save(source_code, 'R_source_code')"
   ]
  },
  {
   "cell_type": "code",
   "execution_count": 5,
   "id": "fa321ebe-9175-490b-8016-354682e4cd05",
   "metadata": {},
   "outputs": [],
   "source": [
    "def run_R_test(Rbinary, R_script, R_price_path):\n",
    "    p = subprocess.Popen([Rbinary, R_script])\n",
    "    result = pd.read_csv(R_price_path, index_col=[0])\n",
    "    return result.x.loc['price']"
   ]
  },
  {
   "cell_type": "code",
   "execution_count": 6,
   "id": "a1b3133a-8adf-42f5-a064-d0afdc5a58a1",
   "metadata": {},
   "outputs": [
    {
     "name": "stdout",
     "output_type": "stream",
     "text": [
      "      price       delta       gamma \n",
      "10.40353915  0.56552801  0.02262112 \n"
     ]
    },
    {
     "data": {
      "text/plain": [
       "LineaArtifact(name='R_price', _version=3)"
      ]
     },
     "execution_count": 6,
     "metadata": {},
     "output_type": "execute_result"
    }
   ],
   "source": [
    "R_call_price = run_R_test(Rbinary, R_script, R_price_path)\n",
    "lineapy.save(R_call_price, 'R_price')"
   ]
  },
  {
   "cell_type": "code",
   "execution_count": 7,
   "id": "daa43bb6-e7f4-4007-80e6-b90612253013",
   "metadata": {},
   "outputs": [
    {
     "data": {
      "text/plain": [
       "10.4035391529966"
      ]
     },
     "execution_count": 7,
     "metadata": {},
     "output_type": "execute_result"
    }
   ],
   "source": [
    "R_call_price"
   ]
  },
  {
   "cell_type": "code",
   "execution_count": null,
   "id": "babc7c08-fb16-4d90-a9f8-7ff0dba786f9",
   "metadata": {},
   "outputs": [],
   "source": []
  }
 ],
 "metadata": {
  "kernelspec": {
   "display_name": "lineapy39",
   "language": "python",
   "name": "lineapy39"
  },
  "language_info": {
   "codemirror_mode": {
    "name": "ipython",
    "version": 3
   },
   "file_extension": ".py",
   "mimetype": "text/x-python",
   "name": "python",
   "nbconvert_exporter": "python",
   "pygments_lexer": "ipython3",
   "version": "3.9.12"
  }
 },
 "nbformat": 4,
 "nbformat_minor": 5
}

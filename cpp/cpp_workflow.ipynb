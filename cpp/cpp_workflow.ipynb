{
 "cells": [
  {
   "cell_type": "code",
   "execution_count": null,
   "id": "823abe0b-c41d-45c6-8aeb-e37f81f96e78",
   "metadata": {},
   "outputs": [],
   "source": [
    "%load_ext lineapy"
   ]
  },
  {
   "cell_type": "code",
   "execution_count": null,
   "id": "b3a07cdd-7b05-4a10-8676-4196cd8c9548",
   "metadata": {},
   "outputs": [],
   "source": [
    "import subprocess\n",
    "import pathlib\n",
    "import inspect\n",
    "import json\n",
    "import datetime\n",
    "print('current UTC:', datetime.datetime.utcnow())"
   ]
  },
  {
   "cell_type": "code",
   "execution_count": null,
   "id": "a6ce0036-12c5-4fe3-b96f-1a05660f6bf5",
   "metadata": {},
   "outputs": [],
   "source": [
    "source_code_path = 'lib.cpp'\n",
    "shared_library_path = './libTest.so'"
   ]
  },
  {
   "cell_type": "code",
   "execution_count": null,
   "id": "eb6db4b1-2846-4063-b3a7-58c0b3ee315d",
   "metadata": {},
   "outputs": [],
   "source": [
    "# p = subprocess.run(['g++', '-fPIC', '-shared', '-o', shared_library_path, source_code_path])\n",
    "# # lineapy.save(lineapy.file_system, 'cpp_binary')\n",
    "\n",
    "# source_code = pathlib.Path(source_code_path).read_text()\n",
    "# print(source_code)\n",
    "# lineapy.save(source_code, 'cpp_source_code')"
   ]
  },
  {
   "cell_type": "code",
   "execution_count": null,
   "id": "0940167d-d53f-489d-97e2-4abf28159b6d",
   "metadata": {},
   "outputs": [],
   "source": [
    "# p = subprocess.run(['g++', '-fPIC', '-shared', '-o', shared_library_path, source_code_path])"
   ]
  },
  {
   "cell_type": "code",
   "execution_count": null,
   "id": "4d66fa50-8da5-4ae2-a8b5-ea20af16af8f",
   "metadata": {},
   "outputs": [],
   "source": [
    "def get_source_code(source_code_path, shared_library_path):\n",
    "    p = subprocess.run(['g++', '-fPIC', '-shared', '-o', shared_library_path, source_code_path])\n",
    "    source_code = pathlib.Path(source_code_path).read_text()\n",
    "    return source_code \n",
    "\n",
    "source_code = get_source_code(source_code_path, shared_library_path)\n",
    "print(source_code)\n",
    "lineapy.save(source_code, 'cpp_source_code')"
   ]
  },
  {
   "cell_type": "code",
   "execution_count": null,
   "id": "e47df158-bb58-4795-94b2-b2cf42988eb9",
   "metadata": {},
   "outputs": [],
   "source": []
  },
  {
   "cell_type": "code",
   "execution_count": null,
   "id": "c4329b9f-464e-43c7-bdc2-750569684e62",
   "metadata": {},
   "outputs": [],
   "source": [
    "source_code = pathlib.Path(source_code_path).read_text()\n",
    "print(source_code)\n",
    "lineapy.save(source_code, 'cpp_source_code')"
   ]
  },
  {
   "cell_type": "code",
   "execution_count": null,
   "id": "12f92a75-d543-406b-92bd-2566c581f419",
   "metadata": {},
   "outputs": [],
   "source": [
    "import pathlib"
   ]
  },
  {
   "cell_type": "code",
   "execution_count": null,
   "id": "5cb484bd-4e10-4817-9f90-046d344e2c13",
   "metadata": {},
   "outputs": [],
   "source": [
    "list(x for x in pathlib.Path('.').iterdir())"
   ]
  },
  {
   "cell_type": "code",
   "execution_count": null,
   "id": "c9a54869-a0ec-4fa3-bc82-cb09e2a66cc9",
   "metadata": {},
   "outputs": [],
   "source": [
    "import ctypes\n",
    "import sys\n",
    "import os \n",
    "\n",
    "def get_DLL_handle(dllpath):\n",
    "    handle = ctypes.CDLL(dllpath)     \n",
    "    handle.My_mc_call.argtypes = [ctypes.c_int, ctypes.c_double, ctypes.c_double, ctypes.c_double, ctypes.c_double, ctypes.c_double] \n",
    "    handle.My_mc_call.restype = ctypes.c_double\n",
    "    handle.My_mc_put.argtypes = [ctypes.c_int, ctypes.c_double, ctypes.c_double, ctypes.c_double, ctypes.c_double, ctypes.c_double] \n",
    "    handle.My_mc_put.restype = ctypes.c_double\n",
    "    return handle\n",
    "\n",
    "dll_handle= get_DLL_handle(shared_library_path)\n",
    "\n",
    "def call(num_sims, S, K, r, v, T):\n",
    "    result = dll_handle.My_mc_call(num_sims, S, K, r, v, T)\n",
    "    print(result)\n",
    "    return result\n",
    "\n",
    "def put(num_sims, S, K, r, v, T):\n",
    "    result = dll_handle.My_mc_put(num_sims, S, K, r, v, T)\n",
    "    print(result)\n",
    "    return result    "
   ]
  },
  {
   "cell_type": "code",
   "execution_count": null,
   "id": "b0452725-2adc-41fb-bcdd-17a5a363cb87",
   "metadata": {},
   "outputs": [],
   "source": [
    "cpp_config_path = '../config/option_config.json'\n",
    "params = json.load(open(cpp_config_path,'r'))\n",
    "lineapy.save(params, 'cpp_config')\n",
    "print(params)"
   ]
  },
  {
   "cell_type": "code",
   "execution_count": null,
   "id": "8592f2a3-6bbc-4b43-8fef-4edae6b89564",
   "metadata": {},
   "outputs": [],
   "source": [
    "call_param = {k:v for k, v in params.items() if k in inspect.getfullargspec(call).args}\n",
    "call_price = call(**call_param)"
   ]
  },
  {
   "cell_type": "code",
   "execution_count": null,
   "id": "51806062-005b-4132-9bef-2cd639eb8f13",
   "metadata": {},
   "outputs": [],
   "source": [
    "lineapy.save(call_price, 'cpp_price')"
   ]
  },
  {
   "cell_type": "code",
   "execution_count": null,
   "id": "3a5b0acd-166f-4fce-9275-0c3435951085",
   "metadata": {},
   "outputs": [],
   "source": [
    "art = lineapy.get('cpp_price')\n",
    "# art = lineapy.get('cpp_source_code')\n",
    "print(art.get_code())"
   ]
  },
  {
   "cell_type": "code",
   "execution_count": null,
   "id": "afa8a0be-ad2b-450e-917b-0862bd01c4d7",
   "metadata": {},
   "outputs": [],
   "source": [
    "ft = lineapy.get_function(['cpp_source_code','cpp_price'])\n",
    "print(lineapy.get_module_definition(['cpp_source_code','cpp_price']))"
   ]
  },
  {
   "cell_type": "markdown",
   "id": "9dfa3c05-55fe-4e94-a541-aac594277aea",
   "metadata": {},
   "source": [
    "## Todo\n",
    "\n",
    "* Annotation for `subprocess.run`\n",
    "* Annotaion for `ctypes.CDLL` object"
   ]
  },
  {
   "cell_type": "code",
   "execution_count": null,
   "id": "ec77d8f8-ee5c-4c1c-b022-a209b412c045",
   "metadata": {},
   "outputs": [],
   "source": []
  }
 ],
 "metadata": {
  "kernelspec": {
   "display_name": "lineapy39",
   "language": "python",
   "name": "lineapy39"
  },
  "language_info": {
   "codemirror_mode": {
    "name": "ipython",
    "version": 3
   },
   "file_extension": ".py",
   "mimetype": "text/x-python",
   "name": "python",
   "nbconvert_exporter": "python",
   "pygments_lexer": "ipython3",
   "version": "3.9.12"
  }
 },
 "nbformat": 4,
 "nbformat_minor": 5
}

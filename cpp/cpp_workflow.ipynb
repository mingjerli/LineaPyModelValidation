{
 "cells": [
  {
   "cell_type": "code",
   "execution_count": 1,
   "id": "823abe0b-c41d-45c6-8aeb-e37f81f96e78",
   "metadata": {},
   "outputs": [],
   "source": [
    "%load_ext lineapy"
   ]
  },
  {
   "cell_type": "code",
   "execution_count": 2,
   "id": "b3a07cdd-7b05-4a10-8676-4196cd8c9548",
   "metadata": {},
   "outputs": [
    {
     "name": "stdout",
     "output_type": "stream",
     "text": [
      "current UTC: 2022-10-13 04:04:09.628469\n"
     ]
    }
   ],
   "source": [
    "import subprocess\n",
    "import pathlib\n",
    "import inspect\n",
    "import json\n",
    "import datetime\n",
    "print('current UTC:', datetime.datetime.utcnow())"
   ]
  },
  {
   "cell_type": "markdown",
   "id": "1bb3d97a-64e3-4026-9ddc-6799d4291230",
   "metadata": {},
   "source": [
    "# Benchmark Model (MonteCarlo Method Implemented in C++)\n",
    "\n",
    "Here, we are using a Monte Carlo method(implemented in C++) as the benchmark. Here are the steps:\n",
    "\n",
    "* (optional) Modify the source code if necessary.\n",
    "* Compile the source code to a shared library.\n",
    "* Register the shared library in python as a python function.\n",
    "* Call the new function to get the price from this model.\n"
   ]
  },
  {
   "cell_type": "markdown",
   "id": "8f150749-54cd-4bb1-97c3-4817b91ce683",
   "metadata": {},
   "source": [
    "## Compile Shared Library from C++ Code\n",
    "\n",
    "Here we are using `subprocess` to compile a shared library from C++ and save the source code as an artifact.\n",
    "\n",
    "We want to save the source code as an artifact since during the validation process, the C++ code might need to modify to accomodate the model we are validating."
   ]
  },
  {
   "cell_type": "code",
   "execution_count": 3,
   "id": "a6ce0036-12c5-4fe3-b96f-1a05660f6bf5",
   "metadata": {},
   "outputs": [],
   "source": [
    "source_code_path = 'lib.cpp'\n",
    "shared_library_path = './libTest.so'"
   ]
  },
  {
   "cell_type": "code",
   "execution_count": 4,
   "id": "4d66fa50-8da5-4ae2-a8b5-ea20af16af8f",
   "metadata": {},
   "outputs": [
    {
     "name": "stdout",
     "output_type": "stream",
     "text": [
      "// g++ -fPIC -shared -o libTest.so lib.cpp\n",
      "\n",
      "#include <iostream>\n",
      "#include <cmath>\n",
      "#include <algorithm>    // Needed for the \"max\" function\n",
      "\n",
      "int Function(int num) \n",
      "{\n",
      "    std::cout << \"Num = \" << num << std::endl;\n",
      "    return num;\n",
      "}\n",
      "\n",
      "double gaussian_box_muller() {\n",
      "    double x = 0.0;\n",
      "    double y = 0.0;\n",
      "    double euclid_sq = 0.0;\n",
      "\n",
      "    // Continue generating two uniform random variables\n",
      "    // until the square of their \"euclidean distance\" \n",
      "    // is less than unity\n",
      "    do {\n",
      "        x = 2.0 * rand() / static_cast<double>(RAND_MAX)-1;\n",
      "        y = 2.0 * rand() / static_cast<double>(RAND_MAX)-1;\n",
      "        euclid_sq = x*x + y*y;\n",
      "    } while (euclid_sq >= 1.0);\n",
      "\n",
      "    return x*sqrt(-2*log(euclid_sq)/euclid_sq);\n",
      "}\n",
      "\n",
      "double monte_carlo_call_price(const int& num_sims, const double& S, const double& K, const double& r, const double& v, const double& T) {\n",
      "    double S_adjust = S * exp(T*(r-0.5*v*v));\n",
      "    double S_cur = 0.0;\n",
      "    double payoff_sum = 0.0;\n",
      "\n",
      "    for (int i=0; i<num_sims; i++) {\n",
      "        double gauss_bm = gaussian_box_muller();\n",
      "        S_cur = S_adjust * exp(sqrt(v*v*T)*gauss_bm);\n",
      "        payoff_sum += std::max(S_cur - K, 0.0);\n",
      "    }\n",
      "    double result = (payoff_sum / static_cast<double>(num_sims)) * exp(-r*T);\n",
      "    std::cout << \"payoff_sum = \" << payoff_sum << std::endl;\n",
      "    std::cout << \"r = \" << r << std::endl;\n",
      "    std::cout << \"T = \" << T << std::endl;\n",
      "    std::cout << \"result\" << result << std::endl;\n",
      "    \n",
      "    return (payoff_sum / static_cast<double>(num_sims)) * exp(-r*T);\n",
      "}\n",
      "\n",
      "double monte_carlo_put_price(const int& num_sims, const double& S, const double& K, const double& r, const double& v, const double& T) {\n",
      "    double S_adjust = S * exp(T*(r-0.5*v*v));\n",
      "    double S_cur = 0.0;\n",
      "    double payoff_sum = 0.0;\n",
      "\n",
      "    for (int i=0; i<num_sims; i++) {\n",
      "        double gauss_bm = gaussian_box_muller();\n",
      "        S_cur = S_adjust * exp(sqrt(v*v*T)*gauss_bm);\n",
      "        payoff_sum += std::max(K - S_cur, 0.0);\n",
      "    }\n",
      "\n",
      "    return (payoff_sum / static_cast<double>(num_sims)) * exp(-r*T);\n",
      "}\n",
      "\n",
      "extern \"C\" {\n",
      "    int My_Function(int a)\n",
      "    {\n",
      "        return Function(a);\n",
      "    }\n",
      "}\n",
      "\n",
      "extern \"C\" {\n",
      "    double My_gaussian_box_muller()\n",
      "    {\n",
      "        return gaussian_box_muller();\n",
      "    }\n",
      "}\n",
      "\n",
      "extern \"C\" {\n",
      "    // double My_mc_call(const int& num_sims, const double& S, const double& K, const double& r, const double& v, const double& T)\n",
      "    double My_mc_call(int num_sims, double S, double K, double r, double v, double T)\n",
      "    {\n",
      "        return monte_carlo_call_price(num_sims, S, K, r, v, T);\n",
      "    }\n",
      "}\n",
      "\n",
      "extern \"C\" {\n",
      "    // double My_mc_call(const int& num_sims, const double& S, const double& K, const double& r, const double& v, const double& T)\n",
      "    double My_mc_put(int num_sims, double S, double K, double r, double v, double T)\n",
      "    {\n",
      "        return monte_carlo_put_price(num_sims, S, K, r, v, T);\n",
      "    }\n",
      "}\n"
     ]
    },
    {
     "data": {
      "text/plain": [
       "LineaArtifact(name='cpp_source_code', _version=0)"
      ]
     },
     "execution_count": 4,
     "metadata": {},
     "output_type": "execute_result"
    }
   ],
   "source": [
    "def get_source_code(source_code_path, shared_library_path):\n",
    "    p = subprocess.run(['g++', '-fPIC', '-shared', '-o', shared_library_path, source_code_path])\n",
    "    source_code = pathlib.Path(source_code_path).read_text()\n",
    "    return source_code \n",
    "\n",
    "source_code = get_source_code(source_code_path, shared_library_path)\n",
    "print(source_code)\n",
    "lineapy.save(source_code, 'cpp_source_code')"
   ]
  },
  {
   "cell_type": "markdown",
   "id": "43eae6ce-9572-4e15-a2a3-d98f3269dd1e",
   "metadata": {},
   "source": [
    "## Register the Shared Library into Python Functions"
   ]
  },
  {
   "cell_type": "code",
   "execution_count": 5,
   "id": "c9a54869-a0ec-4fa3-bc82-cb09e2a66cc9",
   "metadata": {},
   "outputs": [],
   "source": [
    "import ctypes\n",
    "import sys\n",
    "import os \n",
    "\n",
    "def get_DLL_handle(dllpath):\n",
    "    handle = ctypes.CDLL(dllpath)     \n",
    "    handle.My_mc_call.argtypes = [ctypes.c_int, ctypes.c_double, ctypes.c_double, ctypes.c_double, ctypes.c_double, ctypes.c_double] \n",
    "    handle.My_mc_call.restype = ctypes.c_double\n",
    "    handle.My_mc_put.argtypes = [ctypes.c_int, ctypes.c_double, ctypes.c_double, ctypes.c_double, ctypes.c_double, ctypes.c_double] \n",
    "    handle.My_mc_put.restype = ctypes.c_double\n",
    "    return handle\n",
    "\n",
    "dll_handle= get_DLL_handle(shared_library_path)\n",
    "\n",
    "def call(num_sims, S, K, r, v, T):\n",
    "    result = dll_handle.My_mc_call(num_sims, S, K, r, v, T)\n",
    "    print(result)\n",
    "    return result\n",
    "\n",
    "def put(num_sims, S, K, r, v, T):\n",
    "    result = dll_handle.My_mc_put(num_sims, S, K, r, v, T)\n",
    "    print(result)\n",
    "    return result    "
   ]
  },
  {
   "cell_type": "markdown",
   "id": "e64f4253-93af-4a0b-8244-cb1c0d5cf020",
   "metadata": {},
   "source": [
    "### Load option parameters\n",
    "\n",
    "Save the parameter as an artifact to make sure what exactly parameters are we passing into the pricer"
   ]
  },
  {
   "cell_type": "code",
   "execution_count": 6,
   "id": "b0452725-2adc-41fb-bcdd-17a5a363cb87",
   "metadata": {},
   "outputs": [
    {
     "name": "stdout",
     "output_type": "stream",
     "text": [
      "{'option_type': 'call', 'num_sims': 1000, 'S': 100, 'K': 100, 'r': 0.01, 'v': 0.25, 'T': 1}\n"
     ]
    }
   ],
   "source": [
    "cpp_config_path = '../config/option_config.json'\n",
    "params = json.load(open(cpp_config_path,'r'))\n",
    "lineapy.save(params, 'cpp_config')\n",
    "print(params)"
   ]
  },
  {
   "cell_type": "markdown",
   "id": "e0f62725-2817-4975-97a0-dec633cf1f6f",
   "metadata": {},
   "source": [
    "## Call the Pricer (Monte Carlo Methods) and Cave the Result as an Artifact."
   ]
  },
  {
   "cell_type": "code",
   "execution_count": 7,
   "id": "8592f2a3-6bbc-4b43-8fef-4edae6b89564",
   "metadata": {},
   "outputs": [
    {
     "name": "stdout",
     "output_type": "stream",
     "text": [
      "10.98079096253393payoff_sum = 11091.1\n",
      "r = 0.01\n",
      "T = 1\n",
      "result10.9808\n",
      "\n"
     ]
    }
   ],
   "source": [
    "call_param = {k:v for k, v in params.items() if k in inspect.getfullargspec(call).args}\n",
    "call_price = call(**call_param)"
   ]
  },
  {
   "cell_type": "code",
   "execution_count": 8,
   "id": "51806062-005b-4132-9bef-2cd639eb8f13",
   "metadata": {},
   "outputs": [
    {
     "data": {
      "text/plain": [
       "LineaArtifact(name='cpp_price', _version=0)"
      ]
     },
     "execution_count": 8,
     "metadata": {},
     "output_type": "execute_result"
    }
   ],
   "source": [
    "lineapy.save(call_price, 'cpp_price')"
   ]
  },
  {
   "cell_type": "code",
   "execution_count": 9,
   "id": "3a5b0acd-166f-4fce-9275-0c3435951085",
   "metadata": {},
   "outputs": [
    {
     "name": "stdout",
     "output_type": "stream",
     "text": [
      "import ctypes\n",
      "import inspect\n",
      "import json\n",
      "\n",
      "shared_library_path = \"./libTest.so\"\n",
      "\n",
      "\n",
      "def get_DLL_handle(dllpath):\n",
      "    handle = ctypes.CDLL(dllpath)\n",
      "    handle.My_mc_call.argtypes = [\n",
      "        ctypes.c_int,\n",
      "        ctypes.c_double,\n",
      "        ctypes.c_double,\n",
      "        ctypes.c_double,\n",
      "        ctypes.c_double,\n",
      "        ctypes.c_double,\n",
      "    ]\n",
      "    handle.My_mc_call.restype = ctypes.c_double\n",
      "    handle.My_mc_put.argtypes = [\n",
      "        ctypes.c_int,\n",
      "        ctypes.c_double,\n",
      "        ctypes.c_double,\n",
      "        ctypes.c_double,\n",
      "        ctypes.c_double,\n",
      "        ctypes.c_double,\n",
      "    ]\n",
      "    handle.My_mc_put.restype = ctypes.c_double\n",
      "    return handle\n",
      "\n",
      "\n",
      "dll_handle = get_DLL_handle(shared_library_path)\n",
      "\n",
      "\n",
      "def call(num_sims, S, K, r, v, T):\n",
      "    result = dll_handle.My_mc_call(num_sims, S, K, r, v, T)\n",
      "    print(result)\n",
      "    return result\n",
      "\n",
      "\n",
      "cpp_config_path = \"../config/option_config.json\"\n",
      "params = json.load(open(cpp_config_path, \"r\"))\n",
      "call_param = {k: v for k, v in params.items() if k in inspect.getfullargspec(call).args}\n",
      "call_price = call(**call_param)\n",
      "\n"
     ]
    }
   ],
   "source": [
    "art = lineapy.get('cpp_price')\n",
    "print(art.get_code())"
   ]
  },
  {
   "cell_type": "code",
   "execution_count": null,
   "id": "ec77d8f8-ee5c-4c1c-b022-a209b412c045",
   "metadata": {},
   "outputs": [],
   "source": []
  }
 ],
 "metadata": {
  "kernelspec": {
   "display_name": "lineapy39",
   "language": "python",
   "name": "lineapy39"
  },
  "language_info": {
   "codemirror_mode": {
    "name": "ipython",
    "version": 3
   },
   "file_extension": ".py",
   "mimetype": "text/x-python",
   "name": "python",
   "nbconvert_exporter": "python",
   "pygments_lexer": "ipython3",
   "version": "3.9.12"
  }
 },
 "nbformat": 4,
 "nbformat_minor": 5
}

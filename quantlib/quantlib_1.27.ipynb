{
 "cells": [
  {
   "cell_type": "code",
   "execution_count": 1,
   "id": "963aa07c-453a-4243-b1bf-35ecff8f034e",
   "metadata": {},
   "outputs": [],
   "source": [
    "%load_ext lineapy"
   ]
  },
  {
   "cell_type": "code",
   "execution_count": 2,
   "id": "5cbd6fc4-9033-4d35-aa21-06f19ac8ef28",
   "metadata": {},
   "outputs": [
    {
     "name": "stdout",
     "output_type": "stream",
     "text": [
      "current UTC: 2022-10-13 02:13:03.289769\n"
     ]
    }
   ],
   "source": [
    "import sys\n",
    "import importlib\n",
    "import json\n",
    "import datetime\n",
    "print('current UTC:', datetime.datetime.utcnow())"
   ]
  },
  {
   "cell_type": "code",
   "execution_count": 3,
   "id": "d79e1bae-6b4d-42d0-a9e0-889575a208b2",
   "metadata": {},
   "outputs": [
    {
     "name": "stdout",
     "output_type": "stream",
     "text": [
      "{'option_type': 'call', 'num_sims': 1000, 'S': 100, 'K': 100, 'r': 0.01, 'v': 0.25, 'T': 1}\n"
     ]
    }
   ],
   "source": [
    "cpp_config_path = '../config/option_config.json'\n",
    "params = json.load(open(cpp_config_path,'r'))\n",
    "lineapy.save(params, 'quantlib_config')\n",
    "print(params)"
   ]
  },
  {
   "cell_type": "code",
   "execution_count": 4,
   "id": "3f20bc28-8edd-4dad-8528-cf432874b568",
   "metadata": {},
   "outputs": [],
   "source": [
    "def load_quantlib(version='1.25'):\n",
    "    sys.path.append(f\"/home/mingjerli/quantlib/QuantLib-{version}\")\n",
    "    import QuantLib\n",
    "    print(f'Loading QuantLib v{QuantLib.__version__}')\n",
    "    return QuantLib"
   ]
  },
  {
   "cell_type": "code",
   "execution_count": 5,
   "id": "cc2aacc9-0207-4e54-ba9c-b1b4ab75d642",
   "metadata": {},
   "outputs": [
    {
     "name": "stdout",
     "output_type": "stream",
     "text": [
      "Loading QuantLib v1.27\n",
      "import sys\n",
      "\n",
      "\n",
      "def load_quantlib(version=\"1.25\"):\n",
      "    sys.path.append(f\"/home/mingjerli/quantlib/QuantLib-{version}\")\n",
      "    import QuantLib\n",
      "\n",
      "    print(f\"Loading QuantLib v{QuantLib.__version__}\")\n",
      "    return QuantLib\n",
      "\n",
      "\n",
      "version = \"1.27\"\n",
      "ql = load_quantlib(version)\n",
      "ver = str(ql.__version__)\n",
      "\n"
     ]
    }
   ],
   "source": [
    "version = '1.27'\n",
    "ql = load_quantlib(version)\n",
    "ver = str(ql.__version__)\n",
    "art = lineapy.save(ver,'quantlib_version')\n",
    "print(art.get_code())\n"
   ]
  },
  {
   "cell_type": "code",
   "execution_count": 6,
   "id": "2899a943-e891-4636-b33a-4fcb26a6c91d",
   "metadata": {},
   "outputs": [],
   "source": [
    "today = datetime.datetime.today()\n",
    "maturity_date = today + datetime.timedelta(365*params['T'])\n",
    "calculation_date = ql.Date(today.day,  today.month, today.year +1)\n",
    "maturity_date = ql.Date(maturity_date.day,  maturity_date.month, maturity_date.year +1)"
   ]
  },
  {
   "cell_type": "code",
   "execution_count": 7,
   "id": "5f387a49-1c7a-4dbf-abfc-efc4368239aa",
   "metadata": {},
   "outputs": [],
   "source": [
    "def quantlib_european_call(\n",
    "    maturity_date = maturity_date,\n",
    "    calculation_date = calculation_date,\n",
    "    spot_price = params['S'],\n",
    "    strike_price = params['K'],\n",
    "    volatility = params['v'],\n",
    "    risk_free_rate = params['r']\n",
    "):\n",
    "    dividend_rate =  0\n",
    "    option_type = ql.Option.Call\n",
    "\n",
    "    day_count = ql.Actual365Fixed()\n",
    "    calendar = ql.UnitedStates()\n",
    "\n",
    "    ql.Settings.instance().evaluationDate = calculation_date    \n",
    "\n",
    "    # construct the European Option\n",
    "    payoff = ql.PlainVanillaPayoff(option_type, strike_price)\n",
    "    exercise = ql.EuropeanExercise(maturity_date)\n",
    "    european_option = ql.VanillaOption(payoff, exercise)\n",
    "\n",
    "    # Setup Pricing Engine\n",
    "    spot_handle = ql.QuoteHandle(\n",
    "        ql.SimpleQuote(spot_price)\n",
    "    )\n",
    "    flat_ts = ql.YieldTermStructureHandle(\n",
    "        ql.FlatForward(calculation_date, risk_free_rate, day_count)\n",
    "    )\n",
    "    dividend_yield = ql.YieldTermStructureHandle(\n",
    "        ql.FlatForward(calculation_date, dividend_rate, day_count)\n",
    "    )\n",
    "    flat_vol_ts = ql.BlackVolTermStructureHandle(\n",
    "        ql.BlackConstantVol(calculation_date, calendar, volatility, day_count)\n",
    "    )\n",
    "    bsm_process = ql.BlackScholesMertonProcess(spot_handle, \n",
    "                                               dividend_yield, \n",
    "                                               flat_ts, \n",
    "                                               flat_vol_ts)\n",
    "\n",
    "    european_option.setPricingEngine(\n",
    "        ql.AnalyticEuropeanEngine(bsm_process)\n",
    "    )\n",
    "    bs_price = european_option.NPV()\n",
    "    return bs_price"
   ]
  },
  {
   "cell_type": "code",
   "execution_count": 8,
   "id": "c5080abd-a12c-44ab-a708-9726214c2fb1",
   "metadata": {},
   "outputs": [],
   "source": [
    "bs_price = quantlib_european_call(\n",
    "    maturity_date = maturity_date,\n",
    "    calculation_date = calculation_date,\n",
    "    spot_price = params['S'],\n",
    "    strike_price = params['K'],\n",
    "    volatility = params['v'],\n",
    "    risk_free_rate = params['r']\n",
    ")"
   ]
  },
  {
   "cell_type": "code",
   "execution_count": 9,
   "id": "f0477c55-078a-4c9b-8d37-f1298840bac2",
   "metadata": {},
   "outputs": [
    {
     "data": {
      "text/plain": [
       "10.418271653959474"
      ]
     },
     "execution_count": 9,
     "metadata": {},
     "output_type": "execute_result"
    }
   ],
   "source": [
    "bs_price"
   ]
  },
  {
   "cell_type": "code",
   "execution_count": 10,
   "id": "e1c1781b-b27a-4b77-87a4-b1d77a79d4be",
   "metadata": {},
   "outputs": [],
   "source": [
    "quantlib_bs_price = lineapy.save(bs_price,'quantlib_price')"
   ]
  },
  {
   "cell_type": "code",
   "execution_count": null,
   "id": "64efbcc4-d8bc-4029-88ee-523ed31a2ba6",
   "metadata": {},
   "outputs": [],
   "source": []
  }
 ],
 "metadata": {
  "kernelspec": {
   "display_name": "lineapy39",
   "language": "python",
   "name": "lineapy39"
  },
  "language_info": {
   "codemirror_mode": {
    "name": "ipython",
    "version": 3
   },
   "file_extension": ".py",
   "mimetype": "text/x-python",
   "name": "python",
   "nbconvert_exporter": "python",
   "pygments_lexer": "ipython3",
   "version": "3.9.12"
  }
 },
 "nbformat": 4,
 "nbformat_minor": 5
}

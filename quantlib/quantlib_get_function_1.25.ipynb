{
 "cells": [
  {
   "cell_type": "code",
   "execution_count": 1,
   "id": "3f7c5995-b509-4ae9-aa97-e5d5026659dc",
   "metadata": {},
   "outputs": [],
   "source": [
    "%load_ext lineapy"
   ]
  },
  {
   "cell_type": "code",
   "execution_count": 2,
   "id": "43e5ed79-09e9-4bec-b97d-fa719b265bb2",
   "metadata": {},
   "outputs": [
    {
     "name": "stdout",
     "output_type": "stream",
     "text": [
      "Loading QuantLib v1.25\n"
     ]
    }
   ],
   "source": [
    "ft = lineapy.get_function(['quantlib_price','quantlib_version'], input_parameters=['version'])\n",
    "benchmark_quantlib_result = ft('1.25')"
   ]
  },
  {
   "cell_type": "code",
   "execution_count": null,
   "id": "d1e71ad8-c471-4ac8-8843-9ffeec83006e",
   "metadata": {},
   "outputs": [],
   "source": []
  },
  {
   "cell_type": "code",
   "execution_count": 3,
   "id": "13fe37c5-95a5-4ad2-b212-ff5d15613155",
   "metadata": {},
   "outputs": [
    {
     "data": {
      "text/plain": [
       "LineaArtifact(name='benchmark_quantlib_price', _version=0)"
      ]
     },
     "execution_count": 3,
     "metadata": {},
     "output_type": "execute_result"
    }
   ],
   "source": [
    "benchmark_quantlib_version = benchmark_quantlib_result['quantlib_version']\n",
    "benchmark_quantlib_price = benchmark_quantlib_result['quantlib_price']\n",
    "\n",
    "lineapy.save(benchmark_quantlib_version, 'benchmark_quantlib_version')\n",
    "lineapy.save(benchmark_quantlib_price, 'benchmark_quantlib_price')"
   ]
  },
  {
   "cell_type": "code",
   "execution_count": null,
   "id": "9b1fad84-d111-41b8-b4cd-2b81272a7ae0",
   "metadata": {},
   "outputs": [],
   "source": []
  },
  {
   "cell_type": "code",
   "execution_count": 4,
   "id": "442d0a89-00c5-4d05-9055-3439e1473e9f",
   "metadata": {},
   "outputs": [
    {
     "name": "stdout",
     "output_type": "stream",
     "text": [
      "import argparse\n",
      "import datetime\n",
      "import json\n",
      "import sys\n",
      "\n",
      "\n",
      "def get_ql_for_artifact_quantlib_version_and_downstream(version):\n",
      "    def load_quantlib(version=\"1.25\"):\n",
      "        sys.path.append(f\"/home/mingjerli/quantlib/QuantLib-{version}\")\n",
      "        import QuantLib\n",
      "\n",
      "        print(f\"Loading QuantLib v{QuantLib.__version__}\")\n",
      "        return QuantLib\n",
      "\n",
      "    ql = load_quantlib(version)\n",
      "    return ql\n",
      "\n",
      "\n",
      "def get_quantlib_version(ql):\n",
      "    ver = str(ql.__version__)\n",
      "    return ver\n",
      "\n",
      "\n",
      "def get_quantlib_price(ql):\n",
      "    cpp_config_path = \"../config/option_config.json\"\n",
      "    params = json.load(open(cpp_config_path, \"r\"))\n",
      "    today = datetime.datetime.today()\n",
      "    maturity_date = today + datetime.timedelta(365 * params[\"T\"])\n",
      "    calculation_date = ql.Date(today.day, today.month, today.year + 1)\n",
      "    maturity_date = ql.Date(\n",
      "        maturity_date.day, maturity_date.month, maturity_date.year + 1\n",
      "    )\n",
      "\n",
      "    def quantlib_european_call(\n",
      "        maturity_date=maturity_date,\n",
      "        calculation_date=calculation_date,\n",
      "        spot_price=params[\"S\"],\n",
      "        strike_price=params[\"K\"],\n",
      "        volatility=params[\"v\"],\n",
      "        risk_free_rate=params[\"r\"],\n",
      "    ):\n",
      "        dividend_rate = 0\n",
      "        option_type = ql.Option.Call\n",
      "        day_count = ql.Actual365Fixed()\n",
      "        calendar = ql.UnitedStates()\n",
      "        ql.Settings.instance().evaluationDate = calculation_date\n",
      "        # construct the European Option\n",
      "        payoff = ql.PlainVanillaPayoff(option_type, strike_price)\n",
      "        exercise = ql.EuropeanExercise(maturity_date)\n",
      "        european_option = ql.VanillaOption(payoff, exercise)\n",
      "        # Setup Pricing Engine\n",
      "        spot_handle = ql.QuoteHandle(ql.SimpleQuote(spot_price))\n",
      "        flat_ts = ql.YieldTermStructureHandle(\n",
      "            ql.FlatForward(calculation_date, risk_free_rate, day_count)\n",
      "        )\n",
      "        dividend_yield = ql.YieldTermStructureHandle(\n",
      "            ql.FlatForward(calculation_date, dividend_rate, day_count)\n",
      "        )\n",
      "        flat_vol_ts = ql.BlackVolTermStructureHandle(\n",
      "            ql.BlackConstantVol(calculation_date, calendar, volatility, day_count)\n",
      "        )\n",
      "        bsm_process = ql.BlackScholesMertonProcess(\n",
      "            spot_handle, dividend_yield, flat_ts, flat_vol_ts\n",
      "        )\n",
      "        european_option.setPricingEngine(ql.AnalyticEuropeanEngine(bsm_process))\n",
      "        bs_price = european_option.NPV()\n",
      "        return bs_price\n",
      "\n",
      "    bs_price = quantlib_european_call(\n",
      "        maturity_date=maturity_date,\n",
      "        calculation_date=calculation_date,\n",
      "        spot_price=params[\"S\"],\n",
      "        strike_price=params[\"K\"],\n",
      "        volatility=params[\"v\"],\n",
      "        risk_free_rate=params[\"r\"],\n",
      "    )\n",
      "    return bs_price\n",
      "\n",
      "\n",
      "def run_session_including_quantlib_version(version=\"1.27\"):\n",
      "    # Given multiple artifacts, we need to save each right after\n",
      "    # its calculation to protect from any irrelevant downstream\n",
      "    # mutations (e.g., inside other artifact calculations)\n",
      "    import copy\n",
      "\n",
      "    artifacts = dict()\n",
      "    ql = get_ql_for_artifact_quantlib_version_and_downstream(version)\n",
      "    ver = get_quantlib_version(ql)\n",
      "    artifacts[\"quantlib_version\"] = copy.deepcopy(ver)\n",
      "    bs_price = get_quantlib_price(ql)\n",
      "    artifacts[\"quantlib_price\"] = copy.deepcopy(bs_price)\n",
      "    return artifacts\n",
      "\n",
      "\n",
      "def run_all_sessions(\n",
      "    version=\"1.27\",\n",
      "):\n",
      "    artifacts = dict()\n",
      "    artifacts.update(run_session_including_quantlib_version(version))\n",
      "    return artifacts\n",
      "\n",
      "\n",
      "if __name__ == \"__main__\":\n",
      "    # Edit this section to customize the behavior of artifacts\n",
      "    parser = argparse.ArgumentParser()\n",
      "    parser.add_argument(\"--version\", type=str, default=\"1.27\")\n",
      "    args = parser.parse_args()\n",
      "    artifacts = run_all_sessions(\n",
      "        version=args.version,\n",
      "    )\n",
      "    print(artifacts)\n",
      "\n"
     ]
    }
   ],
   "source": [
    "print(lineapy.get_module_definition(['quantlib_price','quantlib_version'], input_parameters=['version']))"
   ]
  },
  {
   "cell_type": "code",
   "execution_count": null,
   "id": "b4fec86a-8634-4bac-98d6-e06a7ecfd5bd",
   "metadata": {},
   "outputs": [],
   "source": []
  }
 ],
 "metadata": {
  "kernelspec": {
   "display_name": "lineapy39",
   "language": "python",
   "name": "lineapy39"
  },
  "language_info": {
   "codemirror_mode": {
    "name": "ipython",
    "version": 3
   },
   "file_extension": ".py",
   "mimetype": "text/x-python",
   "name": "python",
   "nbconvert_exporter": "python",
   "pygments_lexer": "ipython3",
   "version": "3.9.12"
  }
 },
 "nbformat": 4,
 "nbformat_minor": 5
}

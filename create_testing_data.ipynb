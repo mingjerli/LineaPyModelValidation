{
 "cells": [
  {
   "cell_type": "code",
   "execution_count": 1,
   "id": "ea6ebfea-cd7b-4228-8c7e-4e17a0baf457",
   "metadata": {},
   "outputs": [],
   "source": [
    "import sqlalchemy\n",
    "import pandas as pd\n",
    "import numpy as np"
   ]
  },
  {
   "cell_type": "code",
   "execution_count": 2,
   "id": "9d471e20-86d7-45cd-a230-16ab0f8fc02c",
   "metadata": {},
   "outputs": [],
   "source": [
    "eng = sqlalchemy.create_engine(\"sqlite:///data/spot_price.db\")"
   ]
  },
  {
   "cell_type": "code",
   "execution_count": 3,
   "id": "8435fe8e-4be9-49f4-9bd9-753c7f90581b",
   "metadata": {},
   "outputs": [],
   "source": [
    "spot = pd.DataFrame(\n",
    "    {\n",
    "        'dt':pd.date_range(\n",
    "            start=pd.Timestamp.today().date(),\n",
    "            periods = 365,\n",
    "            freq = 'D'\n",
    "        ),\n",
    "        'spot':np.random.normal(100, 5, 365)\n",
    "    }\n",
    ")"
   ]
  },
  {
   "cell_type": "code",
   "execution_count": 4,
   "id": "98cd4397-3cb1-4dcb-913e-1f7e1b321151",
   "metadata": {},
   "outputs": [],
   "source": [
    "spot.to_sql('spotprice', con=eng, index=False, if_exists='replace')"
   ]
  },
  {
   "cell_type": "code",
   "execution_count": 5,
   "id": "ed30ed1c-5ccc-4abb-95d1-b3afa94e8630",
   "metadata": {},
   "outputs": [
    {
     "data": {
      "text/html": [
       "<div>\n",
       "<style scoped>\n",
       "    .dataframe tbody tr th:only-of-type {\n",
       "        vertical-align: middle;\n",
       "    }\n",
       "\n",
       "    .dataframe tbody tr th {\n",
       "        vertical-align: top;\n",
       "    }\n",
       "\n",
       "    .dataframe thead th {\n",
       "        text-align: right;\n",
       "    }\n",
       "</style>\n",
       "<table border=\"1\" class=\"dataframe\">\n",
       "  <thead>\n",
       "    <tr style=\"text-align: right;\">\n",
       "      <th></th>\n",
       "      <th>dt</th>\n",
       "      <th>spot</th>\n",
       "    </tr>\n",
       "  </thead>\n",
       "  <tbody>\n",
       "    <tr>\n",
       "      <th>0</th>\n",
       "      <td>2022-10-13</td>\n",
       "      <td>101.630718</td>\n",
       "    </tr>\n",
       "    <tr>\n",
       "      <th>1</th>\n",
       "      <td>2022-10-14</td>\n",
       "      <td>105.743021</td>\n",
       "    </tr>\n",
       "    <tr>\n",
       "      <th>2</th>\n",
       "      <td>2022-10-15</td>\n",
       "      <td>97.945472</td>\n",
       "    </tr>\n",
       "    <tr>\n",
       "      <th>3</th>\n",
       "      <td>2022-10-16</td>\n",
       "      <td>100.560142</td>\n",
       "    </tr>\n",
       "    <tr>\n",
       "      <th>4</th>\n",
       "      <td>2022-10-17</td>\n",
       "      <td>98.558020</td>\n",
       "    </tr>\n",
       "    <tr>\n",
       "      <th>...</th>\n",
       "      <td>...</td>\n",
       "      <td>...</td>\n",
       "    </tr>\n",
       "    <tr>\n",
       "      <th>360</th>\n",
       "      <td>2023-10-08</td>\n",
       "      <td>97.608687</td>\n",
       "    </tr>\n",
       "    <tr>\n",
       "      <th>361</th>\n",
       "      <td>2023-10-09</td>\n",
       "      <td>93.696343</td>\n",
       "    </tr>\n",
       "    <tr>\n",
       "      <th>362</th>\n",
       "      <td>2023-10-10</td>\n",
       "      <td>99.557379</td>\n",
       "    </tr>\n",
       "    <tr>\n",
       "      <th>363</th>\n",
       "      <td>2023-10-11</td>\n",
       "      <td>103.429875</td>\n",
       "    </tr>\n",
       "    <tr>\n",
       "      <th>364</th>\n",
       "      <td>2023-10-12</td>\n",
       "      <td>105.174305</td>\n",
       "    </tr>\n",
       "  </tbody>\n",
       "</table>\n",
       "<p>365 rows × 2 columns</p>\n",
       "</div>"
      ],
      "text/plain": [
       "            dt        spot\n",
       "0   2022-10-13  101.630718\n",
       "1   2022-10-14  105.743021\n",
       "2   2022-10-15   97.945472\n",
       "3   2022-10-16  100.560142\n",
       "4   2022-10-17   98.558020\n",
       "..         ...         ...\n",
       "360 2023-10-08   97.608687\n",
       "361 2023-10-09   93.696343\n",
       "362 2023-10-10   99.557379\n",
       "363 2023-10-11  103.429875\n",
       "364 2023-10-12  105.174305\n",
       "\n",
       "[365 rows x 2 columns]"
      ]
     },
     "execution_count": 5,
     "metadata": {},
     "output_type": "execute_result"
    }
   ],
   "source": [
    "pd.read_sql_table('spotprice', con=eng)"
   ]
  },
  {
   "cell_type": "code",
   "execution_count": null,
   "id": "1f19d767-9b76-48c4-bd9c-da8f41388d15",
   "metadata": {},
   "outputs": [],
   "source": []
  }
 ],
 "metadata": {
  "kernelspec": {
   "display_name": "lineapy39",
   "language": "python",
   "name": "lineapy39"
  },
  "language_info": {
   "codemirror_mode": {
    "name": "ipython",
    "version": 3
   },
   "file_extension": ".py",
   "mimetype": "text/x-python",
   "name": "python",
   "nbconvert_exporter": "python",
   "pygments_lexer": "ipython3",
   "version": "3.9.12"
  }
 },
 "nbformat": 4,
 "nbformat_minor": 5
}

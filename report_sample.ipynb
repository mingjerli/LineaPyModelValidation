{
 "cells": [
  {
   "cell_type": "code",
   "execution_count": 1,
   "id": "a1b5a381-c8d8-4fe1-96e6-b4b5d2e61e56",
   "metadata": {},
   "outputs": [],
   "source": [
    "%load_ext lineapy"
   ]
  },
  {
   "cell_type": "code",
   "execution_count": 2,
   "id": "6d610383-0ded-452e-a836-30d5b524717c",
   "metadata": {},
   "outputs": [
    {
     "name": "stdout",
     "output_type": "stream",
     "text": [
      "current UTC: 20221013151359\n"
     ]
    }
   ],
   "source": [
    "import git\n",
    "import pprint\n",
    "import datetime\n",
    "utc_timestamp = datetime.datetime.utcnow().strftime(\"%Y%m%d%H%M%S\")\n",
    "print('current UTC:', utc_timestamp)"
   ]
  },
  {
   "cell_type": "markdown",
   "id": "81840106-f99a-463c-9236-2e8028f6b40a",
   "metadata": {},
   "source": [
    "# Sample of Validation Result\n",
    "\n",
    "In this notebook, we demonstrate how to use `lineapy.get` to extract values and codes from other notebooks. \n",
    "Also, we demonstrate how to extract the metadata of you repo/branch and save it as an artifact.\n"
   ]
  },
  {
   "cell_type": "markdown",
   "id": "71f3f70f-a129-4cc2-8e9a-d0a4430683a9",
   "metadata": {},
   "source": [
    "## Extract repo information"
   ]
  },
  {
   "cell_type": "code",
   "execution_count": 3,
   "id": "6267fcac-e557-4d70-b16e-a3f3294e98b5",
   "metadata": {},
   "outputs": [
    {
     "name": "stdout",
     "output_type": "stream",
     "text": [
      "{'repo_branch': 'validation_20221013142532',\n",
      " 'repo_commit': '8cb4df2440950cc0d231f92b99f061678a42d518',\n",
      " 'repo_diff': [{'a_path': 'cpp/cpp_workflow.ipynb',\n",
      "                'b_path': 'cpp/cpp_workflow.ipynb',\n",
      "                'change_type': 'M'},\n",
      "               {'a_path': 'report_sample.ipynb',\n",
      "                'b_path': 'report_sample.ipynb',\n",
      "                'change_type': 'M'}],\n",
      " 'repo_name': 'LineaPyModelValidation'}\n"
     ]
    }
   ],
   "source": [
    "repo = git.Repo()\n",
    "repo_info = dict(\n",
    "    repo_name = repo.working_tree_dir.split(\"/\")[-1],\n",
    "    repo_branch = repo.active_branch.name,\n",
    "    repo_commit = str(repo.active_branch.commit),\n",
    "    repo_diff = [{'a_path':x.a_path, 'b_path':x.b_path, 'change_type':x.change_type} for x in repo.index.diff(None)]\n",
    ")\n",
    "lineapy.save(repo_info,'repo_info')\n",
    "pprint.pprint(repo_info)"
   ]
  },
  {
   "cell_type": "markdown",
   "id": "aa4b8dbc-2041-48b6-9d49-5e27335dc9e4",
   "metadata": {},
   "source": [
    "## All Artifacts"
   ]
  },
  {
   "cell_type": "code",
   "execution_count": 4,
   "id": "377ed910-e691-4630-91bc-8c14451d6919",
   "metadata": {},
   "outputs": [
    {
     "data": {
      "text/plain": [
       "excel_price_cell:0 created on 2022-10-13 02:39:47.190110\n",
       "excel_price_cell:1 created on 2022-10-13 02:40:05.296699\n",
       "excel_cell_price:0 created on 2022-10-13 03:02:36.321925\n",
       "excel_cell_price:1 created on 2022-10-13 03:04:49.683406\n",
       "excel_vba_price:0 created on 2022-10-13 03:05:36.452295\n",
       "quantlib_config:0 created on 2022-10-13 03:39:27.644671\n",
       "quantlib_version:0 created on 2022-10-13 03:39:28.830549\n",
       "quantlib_price:0 created on 2022-10-13 03:39:31.865062\n",
       "benchmark_quantlib_version:0 created on 2022-10-13 03:39:46.714295\n",
       "benchmark_quantlib_price:0 created on 2022-10-13 03:39:47.218104\n",
       "benchmark_quantlib_version:1 created on 2022-10-13 03:43:53.606886\n",
       "benchmark_quantlib_price:1 created on 2022-10-13 03:43:54.131077\n",
       "cpp_source_code:0 created on 2022-10-13 04:04:11.004027\n",
       "cpp_config:0 created on 2022-10-13 04:04:12.436389\n",
       "cpp_price:0 created on 2022-10-13 04:04:13.217499\n",
       "R_source_code:0 created on 2022-10-13 04:10:09.173637\n",
       "R_price:0 created on 2022-10-13 04:10:10.004397\n",
       "excel_cell_price:2 created on 2022-10-13 04:18:13.880287\n",
       "excel_vba_price:1 created on 2022-10-13 04:18:15.821684\n",
       "repo_info:0 created on 2022-10-13 04:25:13.603115\n",
       "repo_info:1 created on 2022-10-13 14:02:47.034795\n",
       "repo_info:2 created on 2022-10-13 14:25:33.389258\n",
       "cpp_source_code:1 created on 2022-10-13 15:12:44.332061\n",
       "cpp_source_code:2 created on 2022-10-13 15:13:22.682069\n",
       "cpp_config:1 created on 2022-10-13 15:13:25.214590\n",
       "cpp_price:1 created on 2022-10-13 15:13:26.042025\n",
       "repo_info:3 created on 2022-10-13 15:14:01.067845"
      ]
     },
     "execution_count": 4,
     "metadata": {},
     "output_type": "execute_result"
    }
   ],
   "source": [
    "lineapy.artifact_store()"
   ]
  },
  {
   "cell_type": "markdown",
   "id": "d242acc5-d61a-44d0-b5e6-4c581ffd9401",
   "metadata": {},
   "source": [
    "## Model to Validate: `quantlib v1.25`"
   ]
  },
  {
   "cell_type": "code",
   "execution_count": 5,
   "id": "cd4cc7fc-d760-4359-8d57-7324e4ff2ef7",
   "metadata": {},
   "outputs": [
    {
     "name": "stdout",
     "output_type": "stream",
     "text": [
      "1.27\n"
     ]
    }
   ],
   "source": [
    "quantlib_version = lineapy.get('quantlib_version')\n",
    "print(quantlib_version.get_value())"
   ]
  },
  {
   "cell_type": "code",
   "execution_count": 6,
   "id": "fb58e453-36f3-483d-ac28-17eb374b2f81",
   "metadata": {},
   "outputs": [
    {
     "name": "stdout",
     "output_type": "stream",
     "text": [
      "10.418271653959474\n"
     ]
    }
   ],
   "source": [
    "quantlib_price = lineapy.get('quantlib_price')\n",
    "print(quantlib_price.get_value())"
   ]
  },
  {
   "cell_type": "code",
   "execution_count": 7,
   "id": "73d50c0f-c2d6-4576-8887-0f0bc9b09d8c",
   "metadata": {},
   "outputs": [
    {
     "name": "stdout",
     "output_type": "stream",
     "text": [
      "import datetime\n",
      "import json\n",
      "import sys\n",
      "\n",
      "cpp_config_path = \"../config/option_config.json\"\n",
      "params = json.load(open(cpp_config_path, \"r\"))\n",
      "\n",
      "\n",
      "def load_quantlib(version=\"1.25\"):\n",
      "    sys.path.append(f\"/home/mingjerli/quantlib/QuantLib-{version}\")\n",
      "    import QuantLib\n",
      "\n",
      "    print(f\"Loading QuantLib v{QuantLib.__version__}\")\n",
      "    return QuantLib\n",
      "\n",
      "\n",
      "version = \"1.27\"\n",
      "ql = load_quantlib(version)\n",
      "today = datetime.datetime.today()\n",
      "maturity_date = today + datetime.timedelta(365 * params[\"T\"])\n",
      "calculation_date = ql.Date(today.day, today.month, today.year + 1)\n",
      "maturity_date = ql.Date(maturity_date.day, maturity_date.month, maturity_date.year + 1)\n",
      "\n",
      "\n",
      "def quantlib_european_call(\n",
      "    maturity_date=maturity_date,\n",
      "    calculation_date=calculation_date,\n",
      "    spot_price=params[\"S\"],\n",
      "    strike_price=params[\"K\"],\n",
      "    volatility=params[\"v\"],\n",
      "    risk_free_rate=params[\"r\"],\n",
      "):\n",
      "    dividend_rate = 0\n",
      "    option_type = ql.Option.Call\n",
      "\n",
      "    day_count = ql.Actual365Fixed()\n",
      "    calendar = ql.UnitedStates()\n",
      "\n",
      "    ql.Settings.instance().evaluationDate = calculation_date\n",
      "\n",
      "    # construct the European Option\n",
      "    payoff = ql.PlainVanillaPayoff(option_type, strike_price)\n",
      "    exercise = ql.EuropeanExercise(maturity_date)\n",
      "    european_option = ql.VanillaOption(payoff, exercise)\n",
      "\n",
      "    # Setup Pricing Engine\n",
      "    spot_handle = ql.QuoteHandle(ql.SimpleQuote(spot_price))\n",
      "    flat_ts = ql.YieldTermStructureHandle(\n",
      "        ql.FlatForward(calculation_date, risk_free_rate, day_count)\n",
      "    )\n",
      "    dividend_yield = ql.YieldTermStructureHandle(\n",
      "        ql.FlatForward(calculation_date, dividend_rate, day_count)\n",
      "    )\n",
      "    flat_vol_ts = ql.BlackVolTermStructureHandle(\n",
      "        ql.BlackConstantVol(calculation_date, calendar, volatility, day_count)\n",
      "    )\n",
      "    bsm_process = ql.BlackScholesMertonProcess(\n",
      "        spot_handle, dividend_yield, flat_ts, flat_vol_ts\n",
      "    )\n",
      "\n",
      "    european_option.setPricingEngine(ql.AnalyticEuropeanEngine(bsm_process))\n",
      "    bs_price = european_option.NPV()\n",
      "    return bs_price\n",
      "\n",
      "\n",
      "bs_price = quantlib_european_call(\n",
      "    maturity_date=maturity_date,\n",
      "    calculation_date=calculation_date,\n",
      "    spot_price=params[\"S\"],\n",
      "    strike_price=params[\"K\"],\n",
      "    volatility=params[\"v\"],\n",
      "    risk_free_rate=params[\"r\"],\n",
      ")\n",
      "\n"
     ]
    }
   ],
   "source": [
    "print(quantlib_price.get_code())"
   ]
  },
  {
   "cell_type": "code",
   "execution_count": null,
   "id": "3e7291cc-6a3c-4a78-a296-09d82e3da135",
   "metadata": {},
   "outputs": [],
   "source": []
  },
  {
   "cell_type": "markdown",
   "id": "89d53657-c65d-4bcc-b26c-3bccb336bf2b",
   "metadata": {},
   "source": [
    "## Benchmark Model C++"
   ]
  },
  {
   "cell_type": "code",
   "execution_count": 8,
   "id": "d84c096f-01e5-4bf7-88c4-54e5c489f7c6",
   "metadata": {},
   "outputs": [
    {
     "name": "stdout",
     "output_type": "stream",
     "text": [
      "11.992892509814723\n"
     ]
    }
   ],
   "source": [
    "cpp_price = lineapy.get('cpp_price')\n",
    "print(cpp_price.get_value())"
   ]
  },
  {
   "cell_type": "code",
   "execution_count": 9,
   "id": "11769cec-6fd9-4b58-b356-bb4432cbd6ae",
   "metadata": {},
   "outputs": [
    {
     "name": "stdout",
     "output_type": "stream",
     "text": [
      "import json\n",
      "\n",
      "import pandas as pd\n",
      "import sqlalchemy\n",
      "\n",
      "calculation_date = pd.Timestamp.today().strftime(\"%Y-%m-%d\")\n",
      "eng = sqlalchemy.create_engine(\"sqlite:///../data/spot_price.db\")\n",
      "query = f\"\"\"SELECT spot FROM spotprice WHERE strftime('%Y-%m-%d',dt)='{calculation_date}' \"\"\"\n",
      "spot = pd.read_sql(query, con=eng).spot.iloc[0]\n",
      "cpp_config_path = \"../config/option_config.json\"\n",
      "params = json.load(open(cpp_config_path, \"r\"))\n",
      "params[\"S\"] = spot\n",
      "\n"
     ]
    }
   ],
   "source": [
    "cpp_source_code = lineapy.get('cpp_config')\n",
    "# print(cpp_source_code.get_value())\n",
    "print(cpp_source_code.get_code())"
   ]
  },
  {
   "cell_type": "code",
   "execution_count": 10,
   "id": "9c076265-c3fc-4f74-92d0-566d82b6cd08",
   "metadata": {},
   "outputs": [
    {
     "name": "stdout",
     "output_type": "stream",
     "text": [
      "import pathlib\n",
      "import subprocess\n",
      "\n",
      "source_code_path = \"lib.cpp\"\n",
      "shared_library_path = \"./libTest.so\"\n",
      "\n",
      "\n",
      "def get_source_code(source_code_path, shared_library_path):\n",
      "    p = subprocess.run(\n",
      "        [\"g++\", \"-fPIC\", \"-shared\", \"-o\", shared_library_path, source_code_path]\n",
      "    )\n",
      "    source_code = pathlib.Path(source_code_path).read_text()\n",
      "    return source_code\n",
      "\n",
      "\n",
      "source_code = get_source_code(source_code_path, shared_library_path)\n",
      "\n"
     ]
    }
   ],
   "source": [
    "cpp_source_code = lineapy.get('cpp_source_code')\n",
    "# print(cpp_source_code.get_value())\n",
    "print(cpp_source_code.get_code())"
   ]
  },
  {
   "cell_type": "markdown",
   "id": "ff214995-a273-4a60-af98-3a6e300cf813",
   "metadata": {},
   "source": [
    "## Benchmark Model R `OptionPricing`"
   ]
  },
  {
   "cell_type": "code",
   "execution_count": 11,
   "id": "c0ac44a4-af51-4645-984b-accfec6e543d",
   "metadata": {},
   "outputs": [
    {
     "name": "stdout",
     "output_type": "stream",
     "text": [
      "10.4035391529966\n"
     ]
    }
   ],
   "source": [
    "R_price = lineapy.get('R_price')\n",
    "print(R_price.get_value())"
   ]
  },
  {
   "cell_type": "code",
   "execution_count": 12,
   "id": "ea706c11-c5ab-4ca8-8cec-77ed28ff2bd0",
   "metadata": {},
   "outputs": [
    {
     "name": "stdout",
     "output_type": "stream",
     "text": [
      "library(OptionPricing)\n",
      "library(jsonlite)\n",
      "\n",
      "config = fromJSON(\"../config/option_config.json\")\n",
      "european_call = BS_EC(K=config$K, r=config$r, sigma=config$v, T=config$T, S0=config$S)\n",
      "print(european_call)\n",
      "write.csv(european_call, file='R_call_price.csv')\n"
     ]
    }
   ],
   "source": [
    "R_source_code = lineapy.get('R_source_code')\n",
    "print(R_source_code.get_value())\n",
    "# print(R_source_code.get_code())"
   ]
  },
  {
   "cell_type": "markdown",
   "id": "f45e36cd-5271-493e-a2ee-510f1ef4b622",
   "metadata": {},
   "source": [
    "## Benchmark Model quantlib v2"
   ]
  },
  {
   "cell_type": "code",
   "execution_count": 13,
   "id": "93594a84-44de-4b64-bc00-feb882853cdd",
   "metadata": {},
   "outputs": [
    {
     "name": "stdout",
     "output_type": "stream",
     "text": [
      "1.25\n"
     ]
    }
   ],
   "source": [
    "benchmark_quantlib_version = lineapy.get('benchmark_quantlib_version')\n",
    "print(benchmark_quantlib_version.get_value())"
   ]
  },
  {
   "cell_type": "code",
   "execution_count": 14,
   "id": "617dd778-e406-4056-803e-b9c288761a73",
   "metadata": {},
   "outputs": [
    {
     "name": "stdout",
     "output_type": "stream",
     "text": [
      "10.418271653959474\n"
     ]
    }
   ],
   "source": [
    "benchmark_quantlib_price = lineapy.get('benchmark_quantlib_price')\n",
    "print(benchmark_quantlib_price.get_value())"
   ]
  },
  {
   "cell_type": "code",
   "execution_count": 15,
   "id": "6ceba8dd-484f-4801-82a6-b43bc874db85",
   "metadata": {},
   "outputs": [
    {
     "name": "stdout",
     "output_type": "stream",
     "text": [
      "quantlib_calculation = lineapy.get_function(\n",
      "    [\"quantlib_price\", \"quantlib_version\"], input_parameters=[\"version\"]\n",
      ")\n",
      "benchmark_quantlib_result = quantlib_calculation(version=\"1.25\")\n",
      "benchmark_quantlib_price = benchmark_quantlib_result[\"quantlib_price\"]\n",
      "\n"
     ]
    }
   ],
   "source": [
    "print(benchmark_quantlib_price.get_code())"
   ]
  },
  {
   "cell_type": "code",
   "execution_count": null,
   "id": "168fcad4-da5f-4f76-bfb0-c8a57145effa",
   "metadata": {},
   "outputs": [],
   "source": []
  },
  {
   "cell_type": "markdown",
   "id": "a1de6d19-a02f-4573-a5a2-74f591bf036c",
   "metadata": {},
   "source": [
    "## Benchmark Model Excel"
   ]
  },
  {
   "cell_type": "code",
   "execution_count": 16,
   "id": "8c766ac1-3b0f-4b87-84fc-ab87f95b4fec",
   "metadata": {},
   "outputs": [
    {
     "name": "stdout",
     "output_type": "stream",
     "text": [
      "10.403539152996622\n",
      "10.403539152996622\n"
     ]
    }
   ],
   "source": [
    "excel_cell_price = lineapy.get('excel_cell_price')\n",
    "print(excel_cell_price.get_value())\n",
    "\n",
    "excel_vba_price = lineapy.get('excel_vba_price')\n",
    "print(excel_vba_price.get_value())"
   ]
  },
  {
   "cell_type": "markdown",
   "id": "45a78fb4-61e2-4854-a162-eba322d00895",
   "metadata": {},
   "source": []
  },
  {
   "cell_type": "markdown",
   "id": "a36c62b5-7bb7-4c24-b50f-c00d5a45709c",
   "metadata": {},
   "source": [
    "# Combine all Results\n",
    "\n",
    "Validators write their own comments"
   ]
  },
  {
   "cell_type": "code",
   "execution_count": 17,
   "id": "1a3f9cdd-518b-4f24-bf4d-3d479e681a4e",
   "metadata": {},
   "outputs": [],
   "source": [
    "import pandas as pd"
   ]
  },
  {
   "cell_type": "code",
   "execution_count": 18,
   "id": "69c1d7be-6608-4342-9306-87fbe36c8e65",
   "metadata": {},
   "outputs": [
    {
     "data": {
      "text/html": [
       "<div>\n",
       "<style scoped>\n",
       "    .dataframe tbody tr th:only-of-type {\n",
       "        vertical-align: middle;\n",
       "    }\n",
       "\n",
       "    .dataframe tbody tr th {\n",
       "        vertical-align: top;\n",
       "    }\n",
       "\n",
       "    .dataframe thead th {\n",
       "        text-align: right;\n",
       "    }\n",
       "</style>\n",
       "<table border=\"1\" class=\"dataframe\">\n",
       "  <thead>\n",
       "    <tr style=\"text-align: right;\">\n",
       "      <th></th>\n",
       "      <th>name</th>\n",
       "      <th>modeltype</th>\n",
       "      <th>value</th>\n",
       "    </tr>\n",
       "  </thead>\n",
       "  <tbody>\n",
       "    <tr>\n",
       "      <th>0</th>\n",
       "      <td>quantlib 1.27</td>\n",
       "      <td>target</td>\n",
       "      <td>10.418272</td>\n",
       "    </tr>\n",
       "    <tr>\n",
       "      <th>1</th>\n",
       "      <td>quantlib 1.25</td>\n",
       "      <td>bnenchmark</td>\n",
       "      <td>10.418272</td>\n",
       "    </tr>\n",
       "    <tr>\n",
       "      <th>2</th>\n",
       "      <td>Monte Carlo C++</td>\n",
       "      <td>bnenchmark</td>\n",
       "      <td>11.992893</td>\n",
       "    </tr>\n",
       "    <tr>\n",
       "      <th>3</th>\n",
       "      <td>R OptionPricing</td>\n",
       "      <td>bnenchmark</td>\n",
       "      <td>10.403539</td>\n",
       "    </tr>\n",
       "    <tr>\n",
       "      <th>4</th>\n",
       "      <td>Excel Cell</td>\n",
       "      <td>bnenchmark</td>\n",
       "      <td>10.403539</td>\n",
       "    </tr>\n",
       "    <tr>\n",
       "      <th>5</th>\n",
       "      <td>Excel VBA</td>\n",
       "      <td>bnenchmark</td>\n",
       "      <td>10.403539</td>\n",
       "    </tr>\n",
       "  </tbody>\n",
       "</table>\n",
       "</div>"
      ],
      "text/plain": [
       "              name   modeltype      value\n",
       "0    quantlib 1.27      target  10.418272\n",
       "1    quantlib 1.25  bnenchmark  10.418272\n",
       "2  Monte Carlo C++  bnenchmark  11.992893\n",
       "3  R OptionPricing  bnenchmark  10.403539\n",
       "4       Excel Cell  bnenchmark  10.403539\n",
       "5        Excel VBA  bnenchmark  10.403539"
      ]
     },
     "execution_count": 18,
     "metadata": {},
     "output_type": "execute_result"
    }
   ],
   "source": [
    "df = pd.DataFrame.from_records([\n",
    "    {'name':'quantlib 1.27','modeltype':'target', 'value': quantlib_price.get_value()},\n",
    "    {'name':'quantlib 1.25','modeltype':'bnenchmark', 'value': benchmark_quantlib_price.get_value()},\n",
    "    {'name':'Monte Carlo C++','modeltype':'bnenchmark', 'value': cpp_price.get_value()},\n",
    "    {'name':'R OptionPricing','modeltype':'bnenchmark', 'value': R_price.get_value()},\n",
    "    {'name':'Excel Cell','modeltype':'bnenchmark', 'value': excel_cell_price.get_value()},\n",
    "    {'name':'Excel VBA','modeltype':'bnenchmark', 'value': excel_vba_price.get_value()},\n",
    "])\n",
    "\n",
    "df"
   ]
  },
  {
   "cell_type": "markdown",
   "id": "9630fcae-7254-414a-afce-f404df290dbf",
   "metadata": {},
   "source": [
    "## Save to a new branch and push"
   ]
  },
  {
   "cell_type": "code",
   "execution_count": 19,
   "id": "6a4d5049-c748-4f8e-9866-b97c6440c9f1",
   "metadata": {},
   "outputs": [
    {
     "name": "stdout",
     "output_type": "stream",
     "text": [
      "On branch validation_20221013142532\n",
      "Your branch is up to date with 'origin/validation_20221013142532'.\n",
      "\n",
      "Changes not staged for commit:\n",
      "  (use \"git add <file>...\" to update what will be committed)\n",
      "  (use \"git restore <file>...\" to discard changes in working directory)\n",
      "\tmodified:   cpp/cpp_workflow.ipynb\n",
      "\tmodified:   report_sample.ipynb\n",
      "\n",
      "Untracked files:\n",
      "  (use \"git add <file>...\" to include in what will be committed)\n",
      "\tcreate_testing_data.ipynb\n",
      "\tdata/\n",
      "\n",
      "no changes added to commit (use \"git add\" and/or \"git commit -a\")\n"
     ]
    }
   ],
   "source": [
    "print(repo.git.status())"
   ]
  },
  {
   "cell_type": "code",
   "execution_count": 20,
   "id": "e8796b88-94f0-4cb3-841d-83936bf85845",
   "metadata": {},
   "outputs": [],
   "source": [
    "branch_name = f\"validation_{utc_timestamp}\""
   ]
  },
  {
   "cell_type": "code",
   "execution_count": 21,
   "id": "b27211cb-43b8-461e-b841-552464b19205",
   "metadata": {},
   "outputs": [
    {
     "name": "stdout",
     "output_type": "stream",
     "text": [
      "M\tcpp/cpp_workflow.ipynb\n",
      "M\treport_sample.ipynb\n"
     ]
    }
   ],
   "source": [
    "print(repo.git.checkout(\"HEAD\",b=branch_name))"
   ]
  },
  {
   "cell_type": "code",
   "execution_count": 22,
   "id": "dc99d8b8-97c2-4269-b21f-a886c75a9052",
   "metadata": {},
   "outputs": [
    {
     "name": "stdout",
     "output_type": "stream",
     "text": [
      "On branch validation_20221013151359\n",
      "Changes not staged for commit:\n",
      "  (use \"git add <file>...\" to update what will be committed)\n",
      "  (use \"git restore <file>...\" to discard changes in working directory)\n",
      "\tmodified:   cpp/cpp_workflow.ipynb\n",
      "\tmodified:   report_sample.ipynb\n",
      "\n",
      "Untracked files:\n",
      "  (use \"git add <file>...\" to include in what will be committed)\n",
      "\tcreate_testing_data.ipynb\n",
      "\tdata/\n",
      "\n",
      "no changes added to commit (use \"git add\" and/or \"git commit -a\")\n"
     ]
    }
   ],
   "source": [
    "print(repo.git.status())"
   ]
  },
  {
   "cell_type": "code",
   "execution_count": 23,
   "id": "ecfe721a-e7f2-4fbc-814f-b72eadb0ac94",
   "metadata": {},
   "outputs": [
    {
     "name": "stdout",
     "output_type": "stream",
     "text": [
      "\n"
     ]
    }
   ],
   "source": [
    "print(repo.git.add(\".\"))"
   ]
  },
  {
   "cell_type": "code",
   "execution_count": 24,
   "id": "0b16ef4d-26da-4a43-9945-4fb94b123719",
   "metadata": {},
   "outputs": [
    {
     "name": "stdout",
     "output_type": "stream",
     "text": [
      "On branch validation_20221013151359\n",
      "Changes to be committed:\n",
      "  (use \"git restore --staged <file>...\" to unstage)\n",
      "\tmodified:   cpp/cpp_workflow.ipynb\n",
      "\tnew file:   create_testing_data.ipynb\n",
      "\tnew file:   data/spot_price.db\n",
      "\tmodified:   report_sample.ipynb\n",
      "\n"
     ]
    }
   ],
   "source": [
    "print(repo.git.status())"
   ]
  },
  {
   "cell_type": "code",
   "execution_count": 25,
   "id": "e401a6c3-6a0b-40cc-a2f2-f46ec56b4b3c",
   "metadata": {},
   "outputs": [
    {
     "name": "stdout",
     "output_type": "stream",
     "text": [
      "[validation_20221013151359 10d9541] 20221013151359_validation_report\n",
      " 4 files changed, 255 insertions(+), 43 deletions(-)\n",
      " create mode 100644 create_testing_data.ipynb\n",
      " create mode 100644 data/spot_price.db\n"
     ]
    }
   ],
   "source": [
    "print(repo.git.commit(m=f\"{utc_timestamp}_validation_report\"))"
   ]
  },
  {
   "cell_type": "code",
   "execution_count": 26,
   "id": "cb8fadea-fea7-4a68-be88-6fb729eb8433",
   "metadata": {},
   "outputs": [
    {
     "name": "stdout",
     "output_type": "stream",
     "text": [
      "Branch 'validation_20221013151359' set up to track remote branch 'validation_20221013151359' from 'origin'.\n"
     ]
    }
   ],
   "source": [
    "print(repo.git.push(\"--set-upstream\",repo.remote().name,branch_name))"
   ]
  }
 ],
 "metadata": {
  "kernelspec": {
   "display_name": "Python 3 (ipykernel)",
   "language": "python",
   "name": "python3"
  },
  "language_info": {
   "codemirror_mode": {
    "name": "ipython",
    "version": 3
   },
   "file_extension": ".py",
   "mimetype": "text/x-python",
   "name": "python",
   "nbconvert_exporter": "python",
   "pygments_lexer": "ipython3",
   "version": "3.9.12"
  }
 },
 "nbformat": 4,
 "nbformat_minor": 5
}

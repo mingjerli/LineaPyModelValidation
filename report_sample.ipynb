{
 "cells": [
  {
   "cell_type": "code",
   "execution_count": 1,
   "id": "a1b5a381-c8d8-4fe1-96e6-b4b5d2e61e56",
   "metadata": {},
   "outputs": [],
   "source": [
    "%load_ext lineapy"
   ]
  },
  {
   "cell_type": "code",
   "execution_count": 27,
   "id": "6d610383-0ded-452e-a836-30d5b524717c",
   "metadata": {},
   "outputs": [],
   "source": [
    "import git\n",
    "import pprint"
   ]
  },
  {
   "cell_type": "code",
   "execution_count": 29,
   "id": "6267fcac-e557-4d70-b16e-a3f3294e98b5",
   "metadata": {},
   "outputs": [
    {
     "name": "stdout",
     "output_type": "stream",
     "text": [
      "{'repo_branch': 'main',\n",
      " 'repo_commit': '9451e1fe91ab3f6b33968204cf19efd888ff12e6',\n",
      " 'repo_diff': [{'a_path': 'R/R_workflow.ipynb',\n",
      "                'b_path': 'R/R_workflow.ipynb',\n",
      "                'change_type': 'M'},\n",
      "               {'a_path': 'cpp/cpp_workflow.ipynb',\n",
      "                'b_path': 'cpp/cpp_workflow.ipynb',\n",
      "                'change_type': 'M'},\n",
      "               {'a_path': 'quantlib/quantlib_1.27.ipynb',\n",
      "                'b_path': 'quantlib/quantlib_1.27.ipynb',\n",
      "                'change_type': 'M'},\n",
      "               {'a_path': 'quantlib/quantlib_get_function_1.25.ipynb',\n",
      "                'b_path': 'quantlib/quantlib_get_function_1.25.ipynb',\n",
      "                'change_type': 'M'},\n",
      "               {'a_path': 'report_sample.ipynb',\n",
      "                'b_path': 'report_sample.ipynb',\n",
      "                'change_type': 'M'}],\n",
      " 'repo_name': 'LineaPyModelValidation'}\n"
     ]
    }
   ],
   "source": [
    "repo = git.Repo()\n",
    "repo_info = dict(\n",
    "    repo_name = repo.working_tree_dir.split(\"/\")[-1],\n",
    "    repo_branch = repo.active_branch.name,\n",
    "    repo_commit = str(repo.active_branch.commit),\n",
    "    repo_diff = [{'a_path':x.a_path, 'b_path':x.b_path, 'change_type':x.change_type} for x in repo.index.diff(None)]\n",
    ")\n",
    "lineapy.save(repo_info,'repo_info')\n",
    "pprint.pprint(repo_info)"
   ]
  },
  {
   "cell_type": "code",
   "execution_count": 21,
   "id": "b78c3df9-e101-475c-bcd5-30eaa1754ae6",
   "metadata": {},
   "outputs": [
    {
     "name": "stdout",
     "output_type": "stream",
     "text": [
      "current UTC: 2022-10-12 21:22:40.965753\n"
     ]
    }
   ],
   "source": [
    "import datetime\n",
    "print('current UTC:', datetime.datetime.utcnow())"
   ]
  },
  {
   "cell_type": "code",
   "execution_count": 2,
   "id": "2d68c93b-5be8-4b25-9d26-251edd316b96",
   "metadata": {},
   "outputs": [],
   "source": [
    "# quantlib v1.25"
   ]
  },
  {
   "cell_type": "code",
   "execution_count": 14,
   "id": "cd4cc7fc-d760-4359-8d57-7324e4ff2ef7",
   "metadata": {},
   "outputs": [
    {
     "name": "stdout",
     "output_type": "stream",
     "text": [
      "1.25\n"
     ]
    }
   ],
   "source": [
    "quantlib_version = lineapy.get('quantlib_version')\n",
    "print(quantlib_version.get_value())"
   ]
  },
  {
   "cell_type": "code",
   "execution_count": 3,
   "id": "7388a3c0-8691-477c-baa3-a19112ac84b6",
   "metadata": {},
   "outputs": [
    {
     "name": "stdout",
     "output_type": "stream",
     "text": [
      "10.418271653959474\n"
     ]
    }
   ],
   "source": [
    "quantlib_price = lineapy.get('quantlib_price')\n",
    "print(quantlib_price.get_value())"
   ]
  },
  {
   "cell_type": "code",
   "execution_count": 4,
   "id": "73d50c0f-c2d6-4576-8887-0f0bc9b09d8c",
   "metadata": {},
   "outputs": [
    {
     "name": "stdout",
     "output_type": "stream",
     "text": [
      "import datetime\n",
      "import json\n",
      "import sys\n",
      "\n",
      "cpp_config_path = \"../config/option_config.json\"\n",
      "params = json.load(open(cpp_config_path, \"r\"))\n",
      "\n",
      "\n",
      "def load_quantlib(version=\"1.25\"):\n",
      "    sys.path.append(f\"/home/mingjerli/quantlib/QuantLib-{version}\")\n",
      "    import QuantLib\n",
      "\n",
      "    return QuantLib\n",
      "\n",
      "\n",
      "version = \"1.25\"\n",
      "ql = load_quantlib(version)\n",
      "today = datetime.datetime.today()\n",
      "maturity_date = today + datetime.timedelta(365 * params[\"T\"])\n",
      "maturity_date = ql.Date(maturity_date.day, maturity_date.month, maturity_date.year + 1)\n",
      "strike_price = params[\"K\"]\n",
      "option_type = ql.Option.Call\n",
      "payoff = ql.PlainVanillaPayoff(option_type, strike_price)\n",
      "exercise = ql.EuropeanExercise(maturity_date)\n",
      "european_option = ql.VanillaOption(payoff, exercise)\n",
      "bs_price = european_option.NPV()\n",
      "\n"
     ]
    }
   ],
   "source": [
    "print(quantlib_price.get_code())"
   ]
  },
  {
   "cell_type": "code",
   "execution_count": null,
   "id": "3e7291cc-6a3c-4a78-a296-09d82e3da135",
   "metadata": {},
   "outputs": [],
   "source": []
  },
  {
   "cell_type": "code",
   "execution_count": 5,
   "id": "355ea9ca-019e-47a4-bac9-76bad597ab5c",
   "metadata": {},
   "outputs": [],
   "source": [
    "# Benchmark Model C++"
   ]
  },
  {
   "cell_type": "code",
   "execution_count": 6,
   "id": "d84c096f-01e5-4bf7-88c4-54e5c489f7c6",
   "metadata": {},
   "outputs": [
    {
     "name": "stdout",
     "output_type": "stream",
     "text": [
      "10.98079096253393\n"
     ]
    }
   ],
   "source": [
    "cpp_price = lineapy.get('cpp_price')\n",
    "print(cpp_price.get_value())"
   ]
  },
  {
   "cell_type": "code",
   "execution_count": 7,
   "id": "11769cec-6fd9-4b58-b356-bb4432cbd6ae",
   "metadata": {},
   "outputs": [
    {
     "name": "stdout",
     "output_type": "stream",
     "text": [
      "import json\n",
      "\n",
      "cpp_config_path = \"../config/option_config.json\"\n",
      "params = json.load(open(cpp_config_path, \"r\"))\n",
      "\n"
     ]
    }
   ],
   "source": [
    "cpp_source_code = lineapy.get('cpp_config')\n",
    "# print(cpp_source_code.get_value())\n",
    "print(cpp_source_code.get_code())"
   ]
  },
  {
   "cell_type": "code",
   "execution_count": 8,
   "id": "9c076265-c3fc-4f74-92d0-566d82b6cd08",
   "metadata": {},
   "outputs": [
    {
     "name": "stdout",
     "output_type": "stream",
     "text": [
      "import pathlib\n",
      "\n",
      "source_code_path = \"lib.cpp\"\n",
      "source_code = pathlib.Path(source_code_path).read_text()\n",
      "\n"
     ]
    }
   ],
   "source": [
    "cpp_source_code = lineapy.get('cpp_source_code')\n",
    "# print(cpp_source_code.get_value())\n",
    "print(cpp_source_code.get_code())"
   ]
  },
  {
   "cell_type": "code",
   "execution_count": 9,
   "id": "2d0d45ae-951b-4a67-b21a-057156264a2b",
   "metadata": {},
   "outputs": [],
   "source": [
    "# Benchmark Model R "
   ]
  },
  {
   "cell_type": "code",
   "execution_count": 10,
   "id": "c0ac44a4-af51-4645-984b-accfec6e543d",
   "metadata": {},
   "outputs": [
    {
     "name": "stdout",
     "output_type": "stream",
     "text": [
      "10.4035391529966\n"
     ]
    }
   ],
   "source": [
    "R_price = lineapy.get('R_price')\n",
    "print(R_price.get_value())"
   ]
  },
  {
   "cell_type": "code",
   "execution_count": 11,
   "id": "ea706c11-c5ab-4ca8-8cec-77ed28ff2bd0",
   "metadata": {},
   "outputs": [
    {
     "name": "stdout",
     "output_type": "stream",
     "text": [
      "library(OptionPricing)\n",
      "library(jsonlite)\n",
      "\n",
      "config = fromJSON(\"../config/option_config.json\")\n",
      "european_call = BS_EC(K=config$K, r=config$r, sigma=config$v, T=config$T, S0=config$S)\n",
      "print(european_call)\n",
      "write.csv(european_call, file='R_call_price.csv')\n"
     ]
    }
   ],
   "source": [
    "R_source_code = lineapy.get('R_source_code')\n",
    "print(R_source_code.get_value())\n",
    "# print(R_source_code.get_code())"
   ]
  },
  {
   "cell_type": "code",
   "execution_count": 12,
   "id": "12739008-8a7f-4e21-845a-22ac1c330a0d",
   "metadata": {},
   "outputs": [],
   "source": [
    "# Benchmark Model quantlib v2"
   ]
  },
  {
   "cell_type": "code",
   "execution_count": 15,
   "id": "93594a84-44de-4b64-bc00-feb882853cdd",
   "metadata": {},
   "outputs": [
    {
     "name": "stdout",
     "output_type": "stream",
     "text": [
      "1.25\n"
     ]
    }
   ],
   "source": [
    "benchmark_quantlib_version = lineapy.get('benchmark_quantlib_version')\n",
    "print(benchmark_quantlib_version.get_value())"
   ]
  },
  {
   "cell_type": "code",
   "execution_count": 16,
   "id": "617dd778-e406-4056-803e-b9c288761a73",
   "metadata": {},
   "outputs": [
    {
     "name": "stdout",
     "output_type": "stream",
     "text": [
      "10.418271653959474\n"
     ]
    }
   ],
   "source": [
    "benchmark_quantlib_price = lineapy.get('benchmark_quantlib_price')\n",
    "print(benchmark_quantlib_price.get_value())"
   ]
  },
  {
   "cell_type": "code",
   "execution_count": 17,
   "id": "6ceba8dd-484f-4801-82a6-b43bc874db85",
   "metadata": {},
   "outputs": [
    {
     "name": "stdout",
     "output_type": "stream",
     "text": [
      "ft = lineapy.get_function(\n",
      "    [\"quantlib_price\", \"quantlib_version\"], input_parameters=[\"version\"]\n",
      ")\n",
      "benchmark_quantlib_result = ft(\"1.25\")\n",
      "benchmark_quantlib_price = benchmark_quantlib_result[\"quantlib_price\"]\n",
      "\n"
     ]
    }
   ],
   "source": [
    "print(benchmark_quantlib_price.get_code())"
   ]
  },
  {
   "cell_type": "code",
   "execution_count": null,
   "id": "168fcad4-da5f-4f76-bfb0-c8a57145effa",
   "metadata": {},
   "outputs": [],
   "source": []
  },
  {
   "cell_type": "code",
   "execution_count": 13,
   "id": "95f1bbaa-b9fe-45b4-8ed0-352a5a7b4b09",
   "metadata": {},
   "outputs": [],
   "source": [
    "# Benchmark Model Excel"
   ]
  },
  {
   "cell_type": "code",
   "execution_count": null,
   "id": "beadd6fa-e85f-488d-a82c-ba666ffbf18b",
   "metadata": {},
   "outputs": [],
   "source": []
  }
 ],
 "metadata": {
  "kernelspec": {
   "display_name": "lineapy39",
   "language": "python",
   "name": "lineapy39"
  },
  "language_info": {
   "codemirror_mode": {
    "name": "ipython",
    "version": 3
   },
   "file_extension": ".py",
   "mimetype": "text/x-python",
   "name": "python",
   "nbconvert_exporter": "python",
   "pygments_lexer": "ipython3",
   "version": "3.9.12"
  }
 },
 "nbformat": 4,
 "nbformat_minor": 5
}

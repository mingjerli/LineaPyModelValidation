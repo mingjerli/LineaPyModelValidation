{
 "cells": [
  {
   "cell_type": "code",
   "execution_count": 1,
   "id": "93069b6c-96a4-45f1-a4b9-9a5500b6ff3c",
   "metadata": {},
   "outputs": [],
   "source": [
    "%load_ext lineapy"
   ]
  },
  {
   "cell_type": "code",
   "execution_count": 2,
   "id": "6391d154-ebef-4b33-868f-5af83d53e56a",
   "metadata": {},
   "outputs": [
    {
     "name": "stdout",
     "output_type": "stream",
     "text": [
      "2022-10-14 18:25:48.831539\n"
     ]
    }
   ],
   "source": [
    "import xlwings as xw\n",
    "import json\n",
    "import datetime\n",
    "print(datetime.datetime.utcnow())"
   ]
  },
  {
   "cell_type": "markdown",
   "id": "9c8b90ed-e3bb-4e33-9c25-c5538a849b6e",
   "metadata": {},
   "source": [
    "# Benchmark Model (Excel VBA)\n",
    "\n",
    "Here, we are using an existing pricer implemented as an VBA within an Excel file\n",
    "\n",
    "* Load option parameters\n",
    "* Load the Excel wookbook\n",
    "* Demonstrate two ways to utilize the spreadsheet\n",
    "    + Modify the cell directly and get the result from cell\n",
    "    + Call the builtin VBA and extract the result directly\n",
    "\n",
    "Note that, interacting with Excel require you to run the code with access to Excel directly.\n"
   ]
  },
  {
   "cell_type": "markdown",
   "id": "2d7c6d5d-c21f-4590-a04f-d0ea6658a6f0",
   "metadata": {},
   "source": [
    "## Load option parameters"
   ]
  },
  {
   "cell_type": "code",
   "execution_count": 3,
   "id": "b3d245fd-9c02-4f87-9bb8-0d7e1171f0bc",
   "metadata": {},
   "outputs": [],
   "source": [
    "config_path = '../config/option_config.json'\n",
    "params = json.load(open(config_path,'r'))"
   ]
  },
  {
   "cell_type": "markdown",
   "id": "00393df8-3f6f-4b2e-a1b0-2280aa53f5e5",
   "metadata": {},
   "source": [
    "## Open the SpreadSheet"
   ]
  },
  {
   "cell_type": "code",
   "execution_count": 4,
   "id": "94267216-ea92-4c40-adb1-0369af5f18cf",
   "metadata": {},
   "outputs": [],
   "source": [
    "workbook_path = r'BlackSholesGreeksVBA.xlsm'\n",
    "sheet_name = 'Basic'"
   ]
  },
  {
   "cell_type": "code",
   "execution_count": 5,
   "id": "d6bcf703-9444-4c5f-8cc7-adf1b84f8cfc",
   "metadata": {},
   "outputs": [],
   "source": [
    "wb = xw.Book(workbook_path)\n",
    "sheet = wb.sheets[sheet_name]"
   ]
  },
  {
   "cell_type": "markdown",
   "id": "fa87912b-82ae-46b3-9cd1-8d668c9da4c3",
   "metadata": {},
   "source": [
    "### Manipulate Cells for Input Value and Extract Value from Result Cell and Save the Result as an Artifact"
   ]
  },
  {
   "cell_type": "code",
   "execution_count": 6,
   "id": "754a9a4d-4ede-4e5e-b9c7-8744a816efb5",
   "metadata": {},
   "outputs": [],
   "source": [
    "def update_cell_and_get_result(sheet, params):\n",
    "    option_type = 'C' \n",
    "    StockPrice = params['S']\n",
    "    StrikePrice = params['K']\n",
    "    RiskFreeRate = params['r']\n",
    "    Volatility = params['v']\n",
    "    TimeToExpiry = params['T']\n",
    "    Dividend = 0    \n",
    "    sheet.range('StockPrice').value = StockPrice\n",
    "    sheet.range('StrikePrice').value = StrikePrice\n",
    "    sheet.range('TimeToExpiry').value = TimeToExpiry\n",
    "    sheet.range('RiskFreeRate').value = RiskFreeRate\n",
    "    sheet.range('Volatility').value = Volatility\n",
    "    sheet.range('Dividend').value = Dividend    \n",
    "\n",
    "    return sheet.range(\"E7\").value \n"
   ]
  },
  {
   "cell_type": "code",
   "execution_count": 7,
   "id": "5166d0e1-a6bf-4254-9caf-6560e1cfb440",
   "metadata": {},
   "outputs": [
    {
     "data": {
      "text/plain": [
       "LineaArtifact(name='excel_cell_price', _version=3)"
      ]
     },
     "execution_count": 7,
     "metadata": {},
     "output_type": "execute_result"
    }
   ],
   "source": [
    "excel_cell_price = update_cell_and_get_result(sheet, params)\n",
    "lineapy.save(excel_cell_price, 'excel_cell_price')"
   ]
  },
  {
   "cell_type": "code",
   "execution_count": 8,
   "id": "d6e49973-c048-48e0-9346-a512b419d041",
   "metadata": {},
   "outputs": [
    {
     "name": "stdout",
     "output_type": "stream",
     "text": [
      "import json\n",
      "\n",
      "import xlwings as xw\n",
      "\n",
      "config_path = \"../config/option_config.json\"\n",
      "params = json.load(open(config_path, \"r\"))\n",
      "workbook_path = r\"BlackSholesGreeksVBA.xlsm\"\n",
      "sheet_name = \"Basic\"\n",
      "wb = xw.Book(workbook_path)\n",
      "sheet = wb.sheets[sheet_name]\n",
      "\n",
      "\n",
      "def update_cell_and_get_result(sheet, params):\n",
      "    option_type = \"C\"\n",
      "    StockPrice = params[\"S\"]\n",
      "    StrikePrice = params[\"K\"]\n",
      "    RiskFreeRate = params[\"r\"]\n",
      "    Volatility = params[\"v\"]\n",
      "    TimeToExpiry = params[\"T\"]\n",
      "    Dividend = 0\n",
      "    sheet.range(\"StockPrice\").value = StockPrice\n",
      "    sheet.range(\"StrikePrice\").value = StrikePrice\n",
      "    sheet.range(\"TimeToExpiry\").value = TimeToExpiry\n",
      "    sheet.range(\"RiskFreeRate\").value = RiskFreeRate\n",
      "    sheet.range(\"Volatility\").value = Volatility\n",
      "    sheet.range(\"Dividend\").value = Dividend\n",
      "\n",
      "    return sheet.range(\"E7\").value\n",
      "\n",
      "\n",
      "excel_cell_price = update_cell_and_get_result(sheet, params)\n",
      "\n"
     ]
    }
   ],
   "source": [
    "print(lineapy.get('excel_cell_price').get_code())"
   ]
  },
  {
   "cell_type": "markdown",
   "id": "f9e2e9a9-c5da-401a-b2c4-ef1bd4c57916",
   "metadata": {},
   "source": [
    "### Direct Use the VBA Function within the Spreadsheet"
   ]
  },
  {
   "cell_type": "code",
   "execution_count": 9,
   "id": "e58fa10d-5641-49e7-8eb7-71016f85d155",
   "metadata": {},
   "outputs": [
    {
     "name": "stdout",
     "output_type": "stream",
     "text": [
      "10.403539152996622\n"
     ]
    },
    {
     "data": {
      "text/plain": [
       "LineaArtifact(name='excel_vba_price', _version=2)"
      ]
     },
     "execution_count": 9,
     "metadata": {},
     "output_type": "execute_result"
    }
   ],
   "source": [
    "option_type = 'C' \n",
    "StockPrice = params['S']\n",
    "StrikePrice = params['K']\n",
    "RiskFreeRate = params['r']\n",
    "Volatility = params['v']\n",
    "TimeToExpiry = params['T']\n",
    "Dividend = 0    \n",
    "\n",
    "vba_pricing = wb.macro('OptionPrice')(option_type, StockPrice, StrikePrice, TimeToExpiry, RiskFreeRate, Volatility, Dividend)\n",
    "print(vba_pricing)\n",
    "lineapy.save(vba_pricing, 'excel_vba_price')"
   ]
  },
  {
   "cell_type": "code",
   "execution_count": 10,
   "id": "4488741e-80f4-45c9-9db4-8a87467d0d60",
   "metadata": {},
   "outputs": [
    {
     "name": "stdout",
     "output_type": "stream",
     "text": [
      "import json\n",
      "\n",
      "import xlwings as xw\n",
      "\n",
      "config_path = \"../config/option_config.json\"\n",
      "params = json.load(open(config_path, \"r\"))\n",
      "workbook_path = r\"BlackSholesGreeksVBA.xlsm\"\n",
      "wb = xw.Book(workbook_path)\n",
      "option_type = \"C\"\n",
      "StockPrice = params[\"S\"]\n",
      "StrikePrice = params[\"K\"]\n",
      "RiskFreeRate = params[\"r\"]\n",
      "Volatility = params[\"v\"]\n",
      "TimeToExpiry = params[\"T\"]\n",
      "Dividend = 0\n",
      "vba_pricing = wb.macro(\"OptionPrice\")(\n",
      "    option_type,\n",
      "    StockPrice,\n",
      "    StrikePrice,\n",
      "    TimeToExpiry,\n",
      "    RiskFreeRate,\n",
      "    Volatility,\n",
      "    Dividend,\n",
      ")\n",
      "\n"
     ]
    }
   ],
   "source": [
    "print(lineapy.get('excel_vba_price').get_code())"
   ]
  },
  {
   "cell_type": "code",
   "execution_count": 11,
   "id": "9af120e1-5aca-4fe4-b98b-f0a845ed8350",
   "metadata": {},
   "outputs": [],
   "source": [
    "wb.close()"
   ]
  },
  {
   "cell_type": "code",
   "execution_count": null,
   "id": "bfa213b7-52c1-4451-bafe-59a9a30944f0",
   "metadata": {},
   "outputs": [],
   "source": []
  }
 ],
 "metadata": {
  "kernelspec": {
   "display_name": "Python 3 (ipykernel)",
   "language": "python",
   "name": "python3"
  },
  "language_info": {
   "codemirror_mode": {
    "name": "ipython",
    "version": 3
   },
   "file_extension": ".py",
   "mimetype": "text/x-python",
   "name": "python",
   "nbconvert_exporter": "python",
   "pygments_lexer": "ipython3",
   "version": "3.9.13"
  }
 },
 "nbformat": 4,
 "nbformat_minor": 5
}
